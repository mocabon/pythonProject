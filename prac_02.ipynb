{
 "cells": [
  {
   "cell_type": "code",
   "execution_count": 1,
   "metadata": {},
   "outputs": [
    {
     "name": "stdout",
     "output_type": "stream",
     "text": [
      "smart analytics\n"
     ]
    }
   ],
   "source": [
    "# 문자열 더하기\n",
    "head = \"smart\"\n",
    "tail = \"analytics\"\n",
    "fullString = head + \" \" + tail\n",
    "print(fullString)"
   ]
  },
  {
   "cell_type": "code",
   "execution_count": 2,
   "metadata": {},
   "outputs": [
    {
     "name": "stdout",
     "output_type": "stream",
     "text": [
      "******************** 문자열 연산 프로그램 ********************\n"
     ]
    }
   ],
   "source": [
    "# 문자열 곱하기\n",
    "print(\"*\"*20+\" 문자열 연산 프로그램 \"+\"*\"*20)"
   ]
  },
  {
   "cell_type": "code",
   "execution_count": 5,
   "metadata": {},
   "outputs": [
    {
     "name": "stdout",
     "output_type": "stream",
     "text": [
      "2\n",
      "2018\n"
     ]
    }
   ],
   "source": [
    "# 문자열 인덱싱 0부터시작\n",
    "yearweek = \"201801\"\n",
    "print(yearweek[0]) # 첫번째 문자열\n",
    "print(yearweek[0:4]) # 범위 문자열"
   ]
  },
  {
   "cell_type": "code",
   "execution_count": null,
   "metadata": {},
   "outputs": [],
   "source": [
    "## “Sec 2018W28 250” 문자열 생성 후 stock_name, date, value "
   ]
  },
  {
   "cell_type": "code",
   "execution_count": 29,
   "metadata": {},
   "outputs": [
    {
     "name": "stdout",
     "output_type": "stream",
     "text": [
      "2\n",
      "1\n",
      "Sec 28 250\n"
     ]
    }
   ],
   "source": [
    "fulltxt = \"Sec 2018W28 250\"\n",
    "print(fulltxt.count(' '))\n",
    "print(fulltxt.count('W'))\n",
    "\n",
    "\n",
    "spltxt = fulltxt.split(' ')\n",
    "spltxt[0]\n",
    "delimeter = spltxt[1].index(\"W\")\n",
    "\n",
    "stock_name = spltxt[0]\n",
    "date  = spltxt[1][delimeter+1:]\n",
    "value = spltxt[2]\n",
    "\n",
    "print(stock_name, date, value)"
   ]
  },
  {
   "cell_type": "code",
   "execution_count": 26,
   "metadata": {},
   "outputs": [
    {
     "name": "stdout",
     "output_type": "stream",
     "text": [
      "SEC\n",
      "201828\n",
      "250\n"
     ]
    }
   ],
   "source": [
    "testdData2 = \"Sec 2018W28 250\"\n",
    "testdDataSplit2 = testdData2.upper().split(\" \")\n",
    "testdDataSplit2\n",
    "type(testdDataSplit2)\n",
    "print(testdDataSplit2[0])\n",
    "print(testdDataSplit2[1].replace('W',''))\n",
    "print(testdDataSplit2[2])"
   ]
  },
  {
   "cell_type": "code",
   "execution_count": null,
   "metadata": {},
   "outputs": [],
   "source": []
  }
 ],
 "metadata": {
  "kernelspec": {
   "display_name": "Python 3",
   "language": "python",
   "name": "python3"
  },
  "language_info": {
   "codemirror_mode": {
    "name": "ipython",
    "version": 3
   },
   "file_extension": ".py",
   "mimetype": "text/x-python",
   "name": "python",
   "nbconvert_exporter": "python",
   "pygments_lexer": "ipython3",
   "version": "3.6.4"
  }
 },
 "nbformat": 4,
 "nbformat_minor": 2
}
