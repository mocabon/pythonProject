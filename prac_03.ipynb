{
 "cells": [
  {
   "cell_type": "markdown",
   "metadata": {},
   "source": [
    "## 리스트(LIST)"
   ]
  },
  {
   "cell_type": "code",
   "execution_count": 20,
   "metadata": {},
   "outputs": [
    {
     "name": "stdout",
     "output_type": "stream",
     "text": [
      "[120, 150, 300, 500, 1000]\n"
     ]
    },
    {
     "data": {
      "text/plain": [
       "414.0"
      ]
     },
     "execution_count": 20,
     "metadata": {},
     "output_type": "execute_result"
    }
   ],
   "source": [
    "mainList = [120, 150, 300, 500, 1000, 100, 2000]\n",
    "\n",
    "maxV = max(mainList)\n",
    "minV = min(mainList)\n",
    "\n",
    "mainList.remove(maxV)\n",
    "mainList.remove(minV)\n",
    "print(mainList)\n",
    "\n",
    "avgList = 0.0\n",
    "\n",
    "# 분모 0값 처리 \n",
    "if len(mainList) != 0:\n",
    "    avgList = sum(mainList)/len(mainList)\n",
    "else:\n",
    "    avgList = 1.0\n",
    "\n",
    "avgList"
   ]
  },
  {
   "cell_type": "code",
   "execution_count": null,
   "metadata": {},
   "outputs": [],
   "source": []
  }
 ],
 "metadata": {
  "kernelspec": {
   "display_name": "Python 3",
   "language": "python",
   "name": "python3"
  },
  "language_info": {
   "codemirror_mode": {
    "name": "ipython",
    "version": 3
   },
   "file_extension": ".py",
   "mimetype": "text/x-python",
   "name": "python",
   "nbconvert_exporter": "python",
   "pygments_lexer": "ipython3",
   "version": "3.6.4"
  }
 },
 "nbformat": 4,
 "nbformat_minor": 2
}
