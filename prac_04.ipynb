{
 "cells": [
  {
   "cell_type": "markdown",
   "metadata": {},
   "source": [
    "### 딕셔너리"
   ]
  },
  {
   "cell_type": "code",
   "execution_count": 5,
   "metadata": {},
   "outputs": [],
   "source": [
    "# 데이터프레임 라이브러리 사용\n",
    "import pandas as pd"
   ]
  },
  {
   "cell_type": "code",
   "execution_count": 8,
   "metadata": {},
   "outputs": [
    {
     "name": "stdout",
     "output_type": "stream",
     "text": [
      "   count name price\n",
      "0      2   사과  2000\n",
      "1      5  오렌지  2000\n",
      "2      1   수박  8000\n",
      "3      6    감  5000\n",
      "4      2    귤  1000\n"
     ]
    }
   ],
   "source": [
    "# 딕셔너리를 활용한 데이터 프레임\n",
    "data = {\n",
    "        'name':['사과','오렌지','수박','감','귤'],\n",
    "        'price':['2000','2000','8000','5000','1000'],\n",
    "        'count':[2,5,1,6,2]\n",
    "}\n",
    "\n",
    "dataFrame = pd.DataFrame(data)\n",
    "print(dataFrame)"
   ]
  },
  {
   "cell_type": "code",
   "execution_count": null,
   "metadata": {},
   "outputs": [],
   "source": [
    "# 리스트"
   ]
  }
 ],
 "metadata": {
  "kernelspec": {
   "display_name": "Python 3",
   "language": "python",
   "name": "python3"
  },
  "language_info": {
   "codemirror_mode": {
    "name": "ipython",
    "version": 3
   },
   "file_extension": ".py",
   "mimetype": "text/x-python",
   "name": "python",
   "nbconvert_exporter": "python",
   "pygments_lexer": "ipython3",
   "version": "3.6.4"
  }
 },
 "nbformat": 4,
 "nbformat_minor": 2
}
